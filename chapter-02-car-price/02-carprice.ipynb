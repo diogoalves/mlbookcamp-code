{
 "cells": [
  {
   "cell_type": "code",
   "execution_count": 2,
   "source": [
    "import pandas as pd\r\n",
    "import numpy as np\r\n",
    "\r\n",
    "import seaborn as sns\r\n",
    "from matplotlib import pyplot as plt\r\n",
    "%matplotlib inline"
   ],
   "outputs": [],
   "metadata": {}
  },
  {
   "cell_type": "code",
   "execution_count": 3,
   "source": [
    "df = pd.read_csv('data.csv')\r\n",
    "len(df)"
   ],
   "outputs": [
    {
     "output_type": "execute_result",
     "data": {
      "text/plain": [
       "11914"
      ]
     },
     "metadata": {},
     "execution_count": 3
    }
   ],
   "metadata": {}
  },
  {
   "cell_type": "code",
   "execution_count": 4,
   "source": [
    "df.head()"
   ],
   "outputs": [
    {
     "output_type": "execute_result",
     "data": {
      "text/html": [
       "<div>\n",
       "<style scoped>\n",
       "    .dataframe tbody tr th:only-of-type {\n",
       "        vertical-align: middle;\n",
       "    }\n",
       "\n",
       "    .dataframe tbody tr th {\n",
       "        vertical-align: top;\n",
       "    }\n",
       "\n",
       "    .dataframe thead th {\n",
       "        text-align: right;\n",
       "    }\n",
       "</style>\n",
       "<table border=\"1\" class=\"dataframe\">\n",
       "  <thead>\n",
       "    <tr style=\"text-align: right;\">\n",
       "      <th></th>\n",
       "      <th>Make</th>\n",
       "      <th>Model</th>\n",
       "      <th>Year</th>\n",
       "      <th>Engine Fuel Type</th>\n",
       "      <th>Engine HP</th>\n",
       "      <th>Engine Cylinders</th>\n",
       "      <th>Transmission Type</th>\n",
       "      <th>Driven_Wheels</th>\n",
       "      <th>Number of Doors</th>\n",
       "      <th>Market Category</th>\n",
       "      <th>Vehicle Size</th>\n",
       "      <th>Vehicle Style</th>\n",
       "      <th>highway MPG</th>\n",
       "      <th>city mpg</th>\n",
       "      <th>Popularity</th>\n",
       "      <th>MSRP</th>\n",
       "    </tr>\n",
       "  </thead>\n",
       "  <tbody>\n",
       "    <tr>\n",
       "      <th>0</th>\n",
       "      <td>BMW</td>\n",
       "      <td>1 Series M</td>\n",
       "      <td>2011</td>\n",
       "      <td>premium unleaded (required)</td>\n",
       "      <td>335.0</td>\n",
       "      <td>6.0</td>\n",
       "      <td>MANUAL</td>\n",
       "      <td>rear wheel drive</td>\n",
       "      <td>2.0</td>\n",
       "      <td>Factory Tuner,Luxury,High-Performance</td>\n",
       "      <td>Compact</td>\n",
       "      <td>Coupe</td>\n",
       "      <td>26</td>\n",
       "      <td>19</td>\n",
       "      <td>3916</td>\n",
       "      <td>46135</td>\n",
       "    </tr>\n",
       "    <tr>\n",
       "      <th>1</th>\n",
       "      <td>BMW</td>\n",
       "      <td>1 Series</td>\n",
       "      <td>2011</td>\n",
       "      <td>premium unleaded (required)</td>\n",
       "      <td>300.0</td>\n",
       "      <td>6.0</td>\n",
       "      <td>MANUAL</td>\n",
       "      <td>rear wheel drive</td>\n",
       "      <td>2.0</td>\n",
       "      <td>Luxury,Performance</td>\n",
       "      <td>Compact</td>\n",
       "      <td>Convertible</td>\n",
       "      <td>28</td>\n",
       "      <td>19</td>\n",
       "      <td>3916</td>\n",
       "      <td>40650</td>\n",
       "    </tr>\n",
       "    <tr>\n",
       "      <th>2</th>\n",
       "      <td>BMW</td>\n",
       "      <td>1 Series</td>\n",
       "      <td>2011</td>\n",
       "      <td>premium unleaded (required)</td>\n",
       "      <td>300.0</td>\n",
       "      <td>6.0</td>\n",
       "      <td>MANUAL</td>\n",
       "      <td>rear wheel drive</td>\n",
       "      <td>2.0</td>\n",
       "      <td>Luxury,High-Performance</td>\n",
       "      <td>Compact</td>\n",
       "      <td>Coupe</td>\n",
       "      <td>28</td>\n",
       "      <td>20</td>\n",
       "      <td>3916</td>\n",
       "      <td>36350</td>\n",
       "    </tr>\n",
       "    <tr>\n",
       "      <th>3</th>\n",
       "      <td>BMW</td>\n",
       "      <td>1 Series</td>\n",
       "      <td>2011</td>\n",
       "      <td>premium unleaded (required)</td>\n",
       "      <td>230.0</td>\n",
       "      <td>6.0</td>\n",
       "      <td>MANUAL</td>\n",
       "      <td>rear wheel drive</td>\n",
       "      <td>2.0</td>\n",
       "      <td>Luxury,Performance</td>\n",
       "      <td>Compact</td>\n",
       "      <td>Coupe</td>\n",
       "      <td>28</td>\n",
       "      <td>18</td>\n",
       "      <td>3916</td>\n",
       "      <td>29450</td>\n",
       "    </tr>\n",
       "    <tr>\n",
       "      <th>4</th>\n",
       "      <td>BMW</td>\n",
       "      <td>1 Series</td>\n",
       "      <td>2011</td>\n",
       "      <td>premium unleaded (required)</td>\n",
       "      <td>230.0</td>\n",
       "      <td>6.0</td>\n",
       "      <td>MANUAL</td>\n",
       "      <td>rear wheel drive</td>\n",
       "      <td>2.0</td>\n",
       "      <td>Luxury</td>\n",
       "      <td>Compact</td>\n",
       "      <td>Convertible</td>\n",
       "      <td>28</td>\n",
       "      <td>18</td>\n",
       "      <td>3916</td>\n",
       "      <td>34500</td>\n",
       "    </tr>\n",
       "  </tbody>\n",
       "</table>\n",
       "</div>"
      ],
      "text/plain": [
       "  Make       Model  Year             Engine Fuel Type  Engine HP  \\\n",
       "0  BMW  1 Series M  2011  premium unleaded (required)      335.0   \n",
       "1  BMW    1 Series  2011  premium unleaded (required)      300.0   \n",
       "2  BMW    1 Series  2011  premium unleaded (required)      300.0   \n",
       "3  BMW    1 Series  2011  premium unleaded (required)      230.0   \n",
       "4  BMW    1 Series  2011  premium unleaded (required)      230.0   \n",
       "\n",
       "   Engine Cylinders Transmission Type     Driven_Wheels  Number of Doors  \\\n",
       "0               6.0            MANUAL  rear wheel drive              2.0   \n",
       "1               6.0            MANUAL  rear wheel drive              2.0   \n",
       "2               6.0            MANUAL  rear wheel drive              2.0   \n",
       "3               6.0            MANUAL  rear wheel drive              2.0   \n",
       "4               6.0            MANUAL  rear wheel drive              2.0   \n",
       "\n",
       "                         Market Category Vehicle Size Vehicle Style  \\\n",
       "0  Factory Tuner,Luxury,High-Performance      Compact         Coupe   \n",
       "1                     Luxury,Performance      Compact   Convertible   \n",
       "2                Luxury,High-Performance      Compact         Coupe   \n",
       "3                     Luxury,Performance      Compact         Coupe   \n",
       "4                                 Luxury      Compact   Convertible   \n",
       "\n",
       "   highway MPG  city mpg  Popularity   MSRP  \n",
       "0           26        19        3916  46135  \n",
       "1           28        19        3916  40650  \n",
       "2           28        20        3916  36350  \n",
       "3           28        18        3916  29450  \n",
       "4           28        18        3916  34500  "
      ]
     },
     "metadata": {},
     "execution_count": 4
    }
   ],
   "metadata": {}
  },
  {
   "cell_type": "code",
   "execution_count": 5,
   "source": [
    "def clean_spaces_from_object_columns(dataframe):\r\n",
    "    dataframe.columns = dataframe.columns.str.lower().str.replace(' ', '_')\r\n",
    "\r\n",
    "    string_columns = list(dataframe.dtypes[df.dtypes == 'object'].index)\r\n",
    "\r\n",
    "    for col in string_columns:\r\n",
    "        dataframe[col] = dataframe[col].str.lower().str.replace(' ', '_')\r\n",
    "\r\n",
    "clean_spaces_from_object_columns(df)\r\n",
    "df"
   ],
   "outputs": [
    {
     "output_type": "execute_result",
     "data": {
      "text/html": [
       "<div>\n",
       "<style scoped>\n",
       "    .dataframe tbody tr th:only-of-type {\n",
       "        vertical-align: middle;\n",
       "    }\n",
       "\n",
       "    .dataframe tbody tr th {\n",
       "        vertical-align: top;\n",
       "    }\n",
       "\n",
       "    .dataframe thead th {\n",
       "        text-align: right;\n",
       "    }\n",
       "</style>\n",
       "<table border=\"1\" class=\"dataframe\">\n",
       "  <thead>\n",
       "    <tr style=\"text-align: right;\">\n",
       "      <th></th>\n",
       "      <th>make</th>\n",
       "      <th>model</th>\n",
       "      <th>year</th>\n",
       "      <th>engine_fuel_type</th>\n",
       "      <th>engine_hp</th>\n",
       "      <th>engine_cylinders</th>\n",
       "      <th>transmission_type</th>\n",
       "      <th>driven_wheels</th>\n",
       "      <th>number_of_doors</th>\n",
       "      <th>market_category</th>\n",
       "      <th>vehicle_size</th>\n",
       "      <th>vehicle_style</th>\n",
       "      <th>highway_mpg</th>\n",
       "      <th>city_mpg</th>\n",
       "      <th>popularity</th>\n",
       "      <th>msrp</th>\n",
       "    </tr>\n",
       "  </thead>\n",
       "  <tbody>\n",
       "    <tr>\n",
       "      <th>0</th>\n",
       "      <td>bmw</td>\n",
       "      <td>1_series_m</td>\n",
       "      <td>2011</td>\n",
       "      <td>premium_unleaded_(required)</td>\n",
       "      <td>335.0</td>\n",
       "      <td>6.0</td>\n",
       "      <td>manual</td>\n",
       "      <td>rear_wheel_drive</td>\n",
       "      <td>2.0</td>\n",
       "      <td>factory_tuner,luxury,high-performance</td>\n",
       "      <td>compact</td>\n",
       "      <td>coupe</td>\n",
       "      <td>26</td>\n",
       "      <td>19</td>\n",
       "      <td>3916</td>\n",
       "      <td>46135</td>\n",
       "    </tr>\n",
       "    <tr>\n",
       "      <th>1</th>\n",
       "      <td>bmw</td>\n",
       "      <td>1_series</td>\n",
       "      <td>2011</td>\n",
       "      <td>premium_unleaded_(required)</td>\n",
       "      <td>300.0</td>\n",
       "      <td>6.0</td>\n",
       "      <td>manual</td>\n",
       "      <td>rear_wheel_drive</td>\n",
       "      <td>2.0</td>\n",
       "      <td>luxury,performance</td>\n",
       "      <td>compact</td>\n",
       "      <td>convertible</td>\n",
       "      <td>28</td>\n",
       "      <td>19</td>\n",
       "      <td>3916</td>\n",
       "      <td>40650</td>\n",
       "    </tr>\n",
       "    <tr>\n",
       "      <th>2</th>\n",
       "      <td>bmw</td>\n",
       "      <td>1_series</td>\n",
       "      <td>2011</td>\n",
       "      <td>premium_unleaded_(required)</td>\n",
       "      <td>300.0</td>\n",
       "      <td>6.0</td>\n",
       "      <td>manual</td>\n",
       "      <td>rear_wheel_drive</td>\n",
       "      <td>2.0</td>\n",
       "      <td>luxury,high-performance</td>\n",
       "      <td>compact</td>\n",
       "      <td>coupe</td>\n",
       "      <td>28</td>\n",
       "      <td>20</td>\n",
       "      <td>3916</td>\n",
       "      <td>36350</td>\n",
       "    </tr>\n",
       "    <tr>\n",
       "      <th>3</th>\n",
       "      <td>bmw</td>\n",
       "      <td>1_series</td>\n",
       "      <td>2011</td>\n",
       "      <td>premium_unleaded_(required)</td>\n",
       "      <td>230.0</td>\n",
       "      <td>6.0</td>\n",
       "      <td>manual</td>\n",
       "      <td>rear_wheel_drive</td>\n",
       "      <td>2.0</td>\n",
       "      <td>luxury,performance</td>\n",
       "      <td>compact</td>\n",
       "      <td>coupe</td>\n",
       "      <td>28</td>\n",
       "      <td>18</td>\n",
       "      <td>3916</td>\n",
       "      <td>29450</td>\n",
       "    </tr>\n",
       "    <tr>\n",
       "      <th>4</th>\n",
       "      <td>bmw</td>\n",
       "      <td>1_series</td>\n",
       "      <td>2011</td>\n",
       "      <td>premium_unleaded_(required)</td>\n",
       "      <td>230.0</td>\n",
       "      <td>6.0</td>\n",
       "      <td>manual</td>\n",
       "      <td>rear_wheel_drive</td>\n",
       "      <td>2.0</td>\n",
       "      <td>luxury</td>\n",
       "      <td>compact</td>\n",
       "      <td>convertible</td>\n",
       "      <td>28</td>\n",
       "      <td>18</td>\n",
       "      <td>3916</td>\n",
       "      <td>34500</td>\n",
       "    </tr>\n",
       "    <tr>\n",
       "      <th>...</th>\n",
       "      <td>...</td>\n",
       "      <td>...</td>\n",
       "      <td>...</td>\n",
       "      <td>...</td>\n",
       "      <td>...</td>\n",
       "      <td>...</td>\n",
       "      <td>...</td>\n",
       "      <td>...</td>\n",
       "      <td>...</td>\n",
       "      <td>...</td>\n",
       "      <td>...</td>\n",
       "      <td>...</td>\n",
       "      <td>...</td>\n",
       "      <td>...</td>\n",
       "      <td>...</td>\n",
       "      <td>...</td>\n",
       "    </tr>\n",
       "    <tr>\n",
       "      <th>11909</th>\n",
       "      <td>acura</td>\n",
       "      <td>zdx</td>\n",
       "      <td>2012</td>\n",
       "      <td>premium_unleaded_(required)</td>\n",
       "      <td>300.0</td>\n",
       "      <td>6.0</td>\n",
       "      <td>automatic</td>\n",
       "      <td>all_wheel_drive</td>\n",
       "      <td>4.0</td>\n",
       "      <td>crossover,hatchback,luxury</td>\n",
       "      <td>midsize</td>\n",
       "      <td>4dr_hatchback</td>\n",
       "      <td>23</td>\n",
       "      <td>16</td>\n",
       "      <td>204</td>\n",
       "      <td>46120</td>\n",
       "    </tr>\n",
       "    <tr>\n",
       "      <th>11910</th>\n",
       "      <td>acura</td>\n",
       "      <td>zdx</td>\n",
       "      <td>2012</td>\n",
       "      <td>premium_unleaded_(required)</td>\n",
       "      <td>300.0</td>\n",
       "      <td>6.0</td>\n",
       "      <td>automatic</td>\n",
       "      <td>all_wheel_drive</td>\n",
       "      <td>4.0</td>\n",
       "      <td>crossover,hatchback,luxury</td>\n",
       "      <td>midsize</td>\n",
       "      <td>4dr_hatchback</td>\n",
       "      <td>23</td>\n",
       "      <td>16</td>\n",
       "      <td>204</td>\n",
       "      <td>56670</td>\n",
       "    </tr>\n",
       "    <tr>\n",
       "      <th>11911</th>\n",
       "      <td>acura</td>\n",
       "      <td>zdx</td>\n",
       "      <td>2012</td>\n",
       "      <td>premium_unleaded_(required)</td>\n",
       "      <td>300.0</td>\n",
       "      <td>6.0</td>\n",
       "      <td>automatic</td>\n",
       "      <td>all_wheel_drive</td>\n",
       "      <td>4.0</td>\n",
       "      <td>crossover,hatchback,luxury</td>\n",
       "      <td>midsize</td>\n",
       "      <td>4dr_hatchback</td>\n",
       "      <td>23</td>\n",
       "      <td>16</td>\n",
       "      <td>204</td>\n",
       "      <td>50620</td>\n",
       "    </tr>\n",
       "    <tr>\n",
       "      <th>11912</th>\n",
       "      <td>acura</td>\n",
       "      <td>zdx</td>\n",
       "      <td>2013</td>\n",
       "      <td>premium_unleaded_(recommended)</td>\n",
       "      <td>300.0</td>\n",
       "      <td>6.0</td>\n",
       "      <td>automatic</td>\n",
       "      <td>all_wheel_drive</td>\n",
       "      <td>4.0</td>\n",
       "      <td>crossover,hatchback,luxury</td>\n",
       "      <td>midsize</td>\n",
       "      <td>4dr_hatchback</td>\n",
       "      <td>23</td>\n",
       "      <td>16</td>\n",
       "      <td>204</td>\n",
       "      <td>50920</td>\n",
       "    </tr>\n",
       "    <tr>\n",
       "      <th>11913</th>\n",
       "      <td>lincoln</td>\n",
       "      <td>zephyr</td>\n",
       "      <td>2006</td>\n",
       "      <td>regular_unleaded</td>\n",
       "      <td>221.0</td>\n",
       "      <td>6.0</td>\n",
       "      <td>automatic</td>\n",
       "      <td>front_wheel_drive</td>\n",
       "      <td>4.0</td>\n",
       "      <td>luxury</td>\n",
       "      <td>midsize</td>\n",
       "      <td>sedan</td>\n",
       "      <td>26</td>\n",
       "      <td>17</td>\n",
       "      <td>61</td>\n",
       "      <td>28995</td>\n",
       "    </tr>\n",
       "  </tbody>\n",
       "</table>\n",
       "<p>11914 rows × 16 columns</p>\n",
       "</div>"
      ],
      "text/plain": [
       "          make       model  year                engine_fuel_type  engine_hp  \\\n",
       "0          bmw  1_series_m  2011     premium_unleaded_(required)      335.0   \n",
       "1          bmw    1_series  2011     premium_unleaded_(required)      300.0   \n",
       "2          bmw    1_series  2011     premium_unleaded_(required)      300.0   \n",
       "3          bmw    1_series  2011     premium_unleaded_(required)      230.0   \n",
       "4          bmw    1_series  2011     premium_unleaded_(required)      230.0   \n",
       "...        ...         ...   ...                             ...        ...   \n",
       "11909    acura         zdx  2012     premium_unleaded_(required)      300.0   \n",
       "11910    acura         zdx  2012     premium_unleaded_(required)      300.0   \n",
       "11911    acura         zdx  2012     premium_unleaded_(required)      300.0   \n",
       "11912    acura         zdx  2013  premium_unleaded_(recommended)      300.0   \n",
       "11913  lincoln      zephyr  2006                regular_unleaded      221.0   \n",
       "\n",
       "       engine_cylinders transmission_type      driven_wheels  number_of_doors  \\\n",
       "0                   6.0            manual   rear_wheel_drive              2.0   \n",
       "1                   6.0            manual   rear_wheel_drive              2.0   \n",
       "2                   6.0            manual   rear_wheel_drive              2.0   \n",
       "3                   6.0            manual   rear_wheel_drive              2.0   \n",
       "4                   6.0            manual   rear_wheel_drive              2.0   \n",
       "...                 ...               ...                ...              ...   \n",
       "11909               6.0         automatic    all_wheel_drive              4.0   \n",
       "11910               6.0         automatic    all_wheel_drive              4.0   \n",
       "11911               6.0         automatic    all_wheel_drive              4.0   \n",
       "11912               6.0         automatic    all_wheel_drive              4.0   \n",
       "11913               6.0         automatic  front_wheel_drive              4.0   \n",
       "\n",
       "                             market_category vehicle_size  vehicle_style  \\\n",
       "0      factory_tuner,luxury,high-performance      compact          coupe   \n",
       "1                         luxury,performance      compact    convertible   \n",
       "2                    luxury,high-performance      compact          coupe   \n",
       "3                         luxury,performance      compact          coupe   \n",
       "4                                     luxury      compact    convertible   \n",
       "...                                      ...          ...            ...   \n",
       "11909             crossover,hatchback,luxury      midsize  4dr_hatchback   \n",
       "11910             crossover,hatchback,luxury      midsize  4dr_hatchback   \n",
       "11911             crossover,hatchback,luxury      midsize  4dr_hatchback   \n",
       "11912             crossover,hatchback,luxury      midsize  4dr_hatchback   \n",
       "11913                                 luxury      midsize          sedan   \n",
       "\n",
       "       highway_mpg  city_mpg  popularity   msrp  \n",
       "0               26        19        3916  46135  \n",
       "1               28        19        3916  40650  \n",
       "2               28        20        3916  36350  \n",
       "3               28        18        3916  29450  \n",
       "4               28        18        3916  34500  \n",
       "...            ...       ...         ...    ...  \n",
       "11909           23        16         204  46120  \n",
       "11910           23        16         204  56670  \n",
       "11911           23        16         204  50620  \n",
       "11912           23        16         204  50920  \n",
       "11913           26        17          61  28995  \n",
       "\n",
       "[11914 rows x 16 columns]"
      ]
     },
     "metadata": {},
     "execution_count": 5
    }
   ],
   "metadata": {}
  },
  {
   "cell_type": "code",
   "execution_count": 5,
   "source": [
    "df.head()"
   ],
   "outputs": [
    {
     "output_type": "execute_result",
     "data": {
      "text/html": [
       "<div>\n",
       "<style scoped>\n",
       "    .dataframe tbody tr th:only-of-type {\n",
       "        vertical-align: middle;\n",
       "    }\n",
       "\n",
       "    .dataframe tbody tr th {\n",
       "        vertical-align: top;\n",
       "    }\n",
       "\n",
       "    .dataframe thead th {\n",
       "        text-align: right;\n",
       "    }\n",
       "</style>\n",
       "<table border=\"1\" class=\"dataframe\">\n",
       "  <thead>\n",
       "    <tr style=\"text-align: right;\">\n",
       "      <th></th>\n",
       "      <th>make</th>\n",
       "      <th>model</th>\n",
       "      <th>year</th>\n",
       "      <th>engine_fuel_type</th>\n",
       "      <th>engine_hp</th>\n",
       "      <th>engine_cylinders</th>\n",
       "      <th>transmission_type</th>\n",
       "      <th>driven_wheels</th>\n",
       "      <th>number_of_doors</th>\n",
       "      <th>market_category</th>\n",
       "      <th>vehicle_size</th>\n",
       "      <th>vehicle_style</th>\n",
       "      <th>highway_mpg</th>\n",
       "      <th>city_mpg</th>\n",
       "      <th>popularity</th>\n",
       "      <th>msrp</th>\n",
       "    </tr>\n",
       "  </thead>\n",
       "  <tbody>\n",
       "    <tr>\n",
       "      <th>0</th>\n",
       "      <td>bmw</td>\n",
       "      <td>1_series_m</td>\n",
       "      <td>2011</td>\n",
       "      <td>premium_unleaded_(required)</td>\n",
       "      <td>335.0</td>\n",
       "      <td>6.0</td>\n",
       "      <td>manual</td>\n",
       "      <td>rear_wheel_drive</td>\n",
       "      <td>2.0</td>\n",
       "      <td>factory_tuner,luxury,high-performance</td>\n",
       "      <td>compact</td>\n",
       "      <td>coupe</td>\n",
       "      <td>26</td>\n",
       "      <td>19</td>\n",
       "      <td>3916</td>\n",
       "      <td>46135</td>\n",
       "    </tr>\n",
       "    <tr>\n",
       "      <th>1</th>\n",
       "      <td>bmw</td>\n",
       "      <td>1_series</td>\n",
       "      <td>2011</td>\n",
       "      <td>premium_unleaded_(required)</td>\n",
       "      <td>300.0</td>\n",
       "      <td>6.0</td>\n",
       "      <td>manual</td>\n",
       "      <td>rear_wheel_drive</td>\n",
       "      <td>2.0</td>\n",
       "      <td>luxury,performance</td>\n",
       "      <td>compact</td>\n",
       "      <td>convertible</td>\n",
       "      <td>28</td>\n",
       "      <td>19</td>\n",
       "      <td>3916</td>\n",
       "      <td>40650</td>\n",
       "    </tr>\n",
       "    <tr>\n",
       "      <th>2</th>\n",
       "      <td>bmw</td>\n",
       "      <td>1_series</td>\n",
       "      <td>2011</td>\n",
       "      <td>premium_unleaded_(required)</td>\n",
       "      <td>300.0</td>\n",
       "      <td>6.0</td>\n",
       "      <td>manual</td>\n",
       "      <td>rear_wheel_drive</td>\n",
       "      <td>2.0</td>\n",
       "      <td>luxury,high-performance</td>\n",
       "      <td>compact</td>\n",
       "      <td>coupe</td>\n",
       "      <td>28</td>\n",
       "      <td>20</td>\n",
       "      <td>3916</td>\n",
       "      <td>36350</td>\n",
       "    </tr>\n",
       "    <tr>\n",
       "      <th>3</th>\n",
       "      <td>bmw</td>\n",
       "      <td>1_series</td>\n",
       "      <td>2011</td>\n",
       "      <td>premium_unleaded_(required)</td>\n",
       "      <td>230.0</td>\n",
       "      <td>6.0</td>\n",
       "      <td>manual</td>\n",
       "      <td>rear_wheel_drive</td>\n",
       "      <td>2.0</td>\n",
       "      <td>luxury,performance</td>\n",
       "      <td>compact</td>\n",
       "      <td>coupe</td>\n",
       "      <td>28</td>\n",
       "      <td>18</td>\n",
       "      <td>3916</td>\n",
       "      <td>29450</td>\n",
       "    </tr>\n",
       "    <tr>\n",
       "      <th>4</th>\n",
       "      <td>bmw</td>\n",
       "      <td>1_series</td>\n",
       "      <td>2011</td>\n",
       "      <td>premium_unleaded_(required)</td>\n",
       "      <td>230.0</td>\n",
       "      <td>6.0</td>\n",
       "      <td>manual</td>\n",
       "      <td>rear_wheel_drive</td>\n",
       "      <td>2.0</td>\n",
       "      <td>luxury</td>\n",
       "      <td>compact</td>\n",
       "      <td>convertible</td>\n",
       "      <td>28</td>\n",
       "      <td>18</td>\n",
       "      <td>3916</td>\n",
       "      <td>34500</td>\n",
       "    </tr>\n",
       "  </tbody>\n",
       "</table>\n",
       "</div>"
      ],
      "text/plain": [
       "  make       model  year             engine_fuel_type  engine_hp  \\\n",
       "0  bmw  1_series_m  2011  premium_unleaded_(required)      335.0   \n",
       "1  bmw    1_series  2011  premium_unleaded_(required)      300.0   \n",
       "2  bmw    1_series  2011  premium_unleaded_(required)      300.0   \n",
       "3  bmw    1_series  2011  premium_unleaded_(required)      230.0   \n",
       "4  bmw    1_series  2011  premium_unleaded_(required)      230.0   \n",
       "\n",
       "   engine_cylinders transmission_type     driven_wheels  number_of_doors  \\\n",
       "0               6.0            manual  rear_wheel_drive              2.0   \n",
       "1               6.0            manual  rear_wheel_drive              2.0   \n",
       "2               6.0            manual  rear_wheel_drive              2.0   \n",
       "3               6.0            manual  rear_wheel_drive              2.0   \n",
       "4               6.0            manual  rear_wheel_drive              2.0   \n",
       "\n",
       "                         market_category vehicle_size vehicle_style  \\\n",
       "0  factory_tuner,luxury,high-performance      compact         coupe   \n",
       "1                     luxury,performance      compact   convertible   \n",
       "2                luxury,high-performance      compact         coupe   \n",
       "3                     luxury,performance      compact         coupe   \n",
       "4                                 luxury      compact   convertible   \n",
       "\n",
       "   highway_mpg  city_mpg  popularity   msrp  \n",
       "0           26        19        3916  46135  \n",
       "1           28        19        3916  40650  \n",
       "2           28        20        3916  36350  \n",
       "3           28        18        3916  29450  \n",
       "4           28        18        3916  34500  "
      ]
     },
     "metadata": {},
     "execution_count": 5
    }
   ],
   "metadata": {}
  },
  {
   "cell_type": "markdown",
   "source": [
    "## Exploratory data analysis"
   ],
   "metadata": {}
  },
  {
   "cell_type": "code",
   "execution_count": 13,
   "source": [
    "\r\n",
    "def initial_object_analysis(dataframe):\r\n",
    "    '''\r\n",
    "    Exploratory data analysis of object columns of a dataframe\r\n",
    "    Show nunique, NAs, Top 5 categories for each column\r\n",
    "    \r\n",
    "    Parameters\r\n",
    "    dataframe: a pandas.dataframe    \r\n",
    "    '''\r\n",
    "    # object_columns = list(dataframe.dtypes[dataframe.dtypes=='object'].index)\r\n",
    "    object_columns = [c for c in dataframe.columns if dataframe[c].dtype == 'object']\r\n",
    "\r\n",
    "    for oc in object_columns:\r\n",
    "        nunique = dataframe[oc].nunique()\r\n",
    "        top5_values = list(dataframe[oc].value_counts()[:5].index)\r\n",
    "        top5_percentage = [round((dataframe[oc] == t).sum() / (dataframe[oc]).count() * 100) for t in top5_values]\r\n",
    "        others_percentage = 100 - sum(top5_percentage)\r\n",
    "        top5_values.append('others')\r\n",
    "        top5_percentage.append(others_percentage)\r\n",
    "        top5 = [f'{value} {str(percentage)}%' for value, percentage in zip(top5_values,top5_percentage)]\r\n",
    "        na = dataframe[oc].isna().sum()\r\n",
    "        na_percentage = round(na /(dataframe[oc]).count() * 100)\r\n",
    "        \r\n",
    "        print(f'|||{oc} - nunique:{nunique} - na:{na}({na_percentage}%)|||')\r\n",
    "        print(f'top 5: {top5}\\n')\r\n",
    "\r\n",
    "initial_object_analysis(df)"
   ],
   "outputs": [
    {
     "output_type": "stream",
     "name": "stdout",
     "text": [
      "|||make - nunique:48 - na:0(0%)|||\n",
      "top 5: ['chevrolet 9%', 'ford 7%', 'volkswagen 7%', 'toyota 6%', 'dodge 5%', 'others 66%']\n",
      "\n",
      "|||model - nunique:914 - na:0(0%)|||\n",
      "top 5: ['silverado_1500 1%', 'tundra 1%', 'f-150 1%', 'sierra_1500 1%', 'beetle_convertible 1%', 'others 95%']\n",
      "\n",
      "|||engine_fuel_type - nunique:10 - na:3(0%)|||\n",
      "top 5: ['regular_unleaded 60%', 'premium_unleaded_(required) 17%', 'premium_unleaded_(recommended) 13%', 'flex-fuel_(unleaded/e85) 8%', 'diesel 1%', 'others 1%']\n",
      "\n",
      "|||transmission_type - nunique:5 - na:0(0%)|||\n",
      "top 5: ['automatic 69%', 'manual 25%', 'automated_manual 5%', 'direct_drive 1%', 'unknown 0%', 'others 0%']\n",
      "\n",
      "|||driven_wheels - nunique:4 - na:0(0%)|||\n",
      "top 5: ['front_wheel_drive 40%', 'rear_wheel_drive 28%', 'all_wheel_drive 20%', 'four_wheel_drive 12%', 'others 0%']\n",
      "\n",
      "|||market_category - nunique:71 - na:3742(46%)|||\n",
      "top 5: ['crossover 14%', 'flex_fuel 11%', 'luxury 10%', 'luxury,performance 8%', 'hatchback 8%', 'others 49%']\n",
      "\n",
      "|||vehicle_size - nunique:3 - na:0(0%)|||\n",
      "top 5: ['compact 40%', 'midsize 37%', 'large 23%', 'others 0%']\n",
      "\n",
      "|||vehicle_style - nunique:16 - na:0(0%)|||\n",
      "top 5: ['sedan 26%', '4dr_suv 21%', 'coupe 10%', 'convertible 7%', '4dr_hatchback 6%', 'others 30%']\n",
      "\n"
     ]
    }
   ],
   "metadata": {}
  },
  {
   "cell_type": "code",
   "execution_count": 7,
   "source": [
    "df['make'].isna().sum()"
   ],
   "outputs": [
    {
     "output_type": "execute_result",
     "data": {
      "text/plain": [
       "0"
      ]
     },
     "metadata": {},
     "execution_count": 7
    }
   ],
   "metadata": {}
  },
  {
   "cell_type": "code",
   "execution_count": 8,
   "source": [
    "round((df['vehicle_style'] == 'sedan').sum() / (df['vehicle_style']).count() * 100, 0)"
   ],
   "outputs": [
    {
     "output_type": "execute_result",
     "data": {
      "text/plain": [
       "26.0"
      ]
     },
     "metadata": {},
     "execution_count": 8
    }
   ],
   "metadata": {}
  },
  {
   "cell_type": "code",
   "execution_count": 14,
   "source": [
    "def initial_numeric_analisys(dataframe):\r\n",
    "    ''' \r\n",
    "    Exploratory data analysis of numeric columns of a dataframe\r\n",
    "    Show nunique, NULLs, frequency distribuition, and log1p version of values\r\n",
    "\r\n",
    "    Parameters\r\n",
    "    dataframe: a pandas.dataframe\r\n",
    "        \r\n",
    "    '''\r\n",
    "    numeric_colums = dataframe.select_dtypes(exclude=['object'])\r\n",
    "\r\n",
    "    for nc in numeric_colums:\r\n",
    "        figure, axes = plt.subplots(1, 2, figsize=(12, 4))\r\n",
    "\r\n",
    "        sns.histplot(dataframe[nc], bins=40, color='blue', alpha=1, ax=axes[0])\r\n",
    "\r\n",
    "        log1p_value = np.log1p(dataframe[nc])\r\n",
    "        sns.histplot(log1p_value, bins=40, color='black', alpha=1, ax=axes[1])\r\n",
    "\r\n",
    "        axes[0].set_title(nc)\r\n",
    "        axes[1].set_title(f'Log({nc} + 1) (trying to normalize feature)')\r\n",
    "\r\n",
    "        nunique = dataframe[nc].nunique()\r\n",
    "        null = dataframe[nc].isnull().sum()\r\n",
    "        null_percentage = round(null /(dataframe[nc]).count() * 100)\r\n",
    "        plt.suptitle(f'unique:{nunique} null:{null}({null_percentage}%)') \r\n",
    "        \r\n",
    "    plt.show()\r\n",
    "\r\n",
    "\r\n",
    "initial_numeric_analisys(df)\r\n",
    "\r\n",
    "\r\n",
    "\r\n"
   ],
   "outputs": [
    {
     "output_type": "display_data",
     "data": {
      "image/png": "[encoded data removed]",
      "text/plain": [
       "<Figure size 864x288 with 2 Axes>"
      ]
     },
     "metadata": {
      "needs_background": "light"
     }
    },
    {
     "output_type": "display_data",
     "data": {
      "image/png": "[encoded data removed]",
      "text/plain": [
       "<Figure size 864x288 with 2 Axes>"
      ]
     },
     "metadata": {
      "needs_background": "light"
     }
    },
    {
     "output_type": "display_data",
     "data": {
      "image/png": "[encoded data removed]",
      "text/plain": [
       "<Figure size 864x288 with 2 Axes>"
      ]
     },
     "metadata": {
      "needs_background": "light"
     }
    },
    {
     "output_type": "display_data",
     "data": {
      "image/png": "[encoded data removed]",
      "text/plain": [
       "<Figure size 864x288 with 2 Axes>"
      ]
     },
     "metadata": {
      "needs_background": "light"
     }
    },
    {
     "output_type": "display_data",
     "data": {
      "image/png": "[encoded data removed]",
      "text/plain": [
       "<Figure size 864x288 with 2 Axes>"
      ]
     },
     "metadata": {
      "needs_background": "light"
     }
    },
    {
     "output_type": "display_data",
     "data": {
      "image/png": "[encoded data removed]",
      "text/plain": [
       "<Figure size 864x288 with 2 Axes>"
      ]
     },
     "metadata": {
      "needs_background": "light"
     }
    },
    {
     "output_type": "display_data",
     "data": {
      "image/png": "[encoded data removed]",
      "text/plain": [
       "<Figure size 864x288 with 2 Axes>"
      ]
     },
     "metadata": {
      "needs_background": "light"
     }
    },
    {
     "output_type": "display_data",
     "data": {
      "image/png": "[encoded data removed]",
      "text/plain": [
       "<Figure size 864x288 with 2 Axes>"
      ]
     },
     "metadata": {
      "needs_background": "light"
     }
    }
   ],
   "metadata": {}
  },
  {
   "cell_type": "code",
   "execution_count": 10,
   "source": [
    "plt.figure(figsize=(6, 4))\r\n",
    "\r\n",
    "sns.histplot(df.msrp, bins=40, color='black', alpha=1)\r\n",
    "plt.ylabel('Frequency')\r\n",
    "plt.xlabel('Price')\r\n",
    "plt.title('Distribution of prices')\r\n",
    "\r\n",
    "plt.show()"
   ],
   "outputs": [
    {
     "output_type": "display_data",
     "data": {
      "image/png": "[encoded data removed]",
      "text/plain": [
       "<Figure size 432x288 with 1 Axes>"
      ]
     },
     "metadata": {
      "needs_background": "light"
     }
    }
   ],
   "metadata": {}
  },
  {
   "cell_type": "code",
   "execution_count": 11,
   "source": [
    "plt.figure(figsize=(6, 4))\r\n",
    "\r\n",
    "sns.histplot(df.msrp[df.msrp < 100000], bins=40, color='black', alpha=1)\r\n",
    "plt.ylabel('Frequency')\r\n",
    "plt.xlabel('Price')\r\n",
    "plt.title('Distribution of prices')\r\n",
    "\r\n",
    "plt.show()"
   ],
   "outputs": [
    {
     "output_type": "display_data",
     "data": {
      "image/png": "[encoded data removed]",
      "text/plain": [
       "<Figure size 432x288 with 1 Axes>"
      ]
     },
     "metadata": {
      "needs_background": "light"
     }
    }
   ],
   "metadata": {}
  },
  {
   "cell_type": "code",
   "execution_count": 12,
   "source": [
    "log_price = np.log1p(df.msrp)\r\n",
    "\r\n",
    "plt.figure(figsize=(6, 4))\r\n",
    "\r\n",
    "sns.histplot(log_price, bins=40, color='black', alpha=1)\r\n",
    "plt.ylabel('Frequency')\r\n",
    "plt.xlabel('Log(Price + 1)')\r\n",
    "plt.title('Distribution of prices after log tranformation')\r\n",
    "\r\n",
    "plt.show()"
   ],
   "outputs": [
    {
     "output_type": "display_data",
     "data": {
      "image/png": "[encoded data removed]",
      "text/plain": [
       "<Figure size 432x288 with 1 Axes>"
      ]
     },
     "metadata": {
      "needs_background": "light"
     }
    }
   ],
   "metadata": {}
  },
  {
   "cell_type": "code",
   "execution_count": 62,
   "source": [
    "df.isnull().sum()"
   ],
   "outputs": [
    {
     "output_type": "execute_result",
     "data": {
      "text/plain": [
       "make                    0\n",
       "model                   0\n",
       "year                    0\n",
       "engine_fuel_type        3\n",
       "engine_hp              69\n",
       "engine_cylinders       30\n",
       "transmission_type       0\n",
       "driven_wheels           0\n",
       "number_of_doors         6\n",
       "market_category      3742\n",
       "vehicle_size            0\n",
       "vehicle_style           0\n",
       "highway_mpg             0\n",
       "city_mpg                0\n",
       "popularity              0\n",
       "msrp                    0\n",
       "dtype: int64"
      ]
     },
     "metadata": {},
     "execution_count": 62
    }
   ],
   "metadata": {}
  },
  {
   "cell_type": "markdown",
   "source": [
    "## Validation framework"
   ],
   "metadata": {}
  },
  {
   "cell_type": "code",
   "execution_count": 34,
   "source": [
    "np.random.seed(2)\r\n",
    "\r\n",
    "n = len(df)\r\n",
    "\r\n",
    "n_val = int(0.2 * n)\r\n",
    "n_test = int(0.2 * n)\r\n",
    "n_train = n - (n_val + n_test)\r\n",
    "\r\n",
    "idx = np.arange(n)\r\n",
    "np.random.shuffle(idx)\r\n",
    "\r\n",
    "df_shuffled = df.iloc[idx]\r\n",
    "\r\n",
    "df_train = df_shuffled.iloc[:n_train].copy()\r\n",
    "df_val = df_shuffled.iloc[n_train:n_train+n_val].copy()\r\n",
    "df_test = df_shuffled.iloc[n_train+n_val:].copy()"
   ],
   "outputs": [],
   "metadata": {}
  },
  {
   "cell_type": "code",
   "execution_count": 35,
   "source": [
    "y_train_orig = df_train.msrp.values\r\n",
    "y_val_orig = df_val.msrp.values\r\n",
    "y_test_orig = df_test.msrp.values\r\n",
    "\r\n",
    "y_train = np.log1p(df_train.msrp.values)\r\n",
    "y_val = np.log1p(df_val.msrp.values)\r\n",
    "y_test = np.log1p(df_test.msrp.values)\r\n",
    "\r\n",
    "del df_train['msrp']\r\n",
    "del df_val['msrp']\r\n",
    "del df_test['msrp']"
   ],
   "outputs": [],
   "metadata": {}
  },
  {
   "cell_type": "markdown",
   "source": [
    "## Linear Regression"
   ],
   "metadata": {}
  },
  {
   "cell_type": "code",
   "execution_count": 36,
   "source": [
    "def train_linear_regression(X, y):\r\n",
    "    ones = np.ones(X.shape[0])\r\n",
    "    X = np.column_stack([ones, X])\r\n",
    "\r\n",
    "    XTX = X.T.dot(X)\r\n",
    "    XTX_inv = np.linalg.inv(XTX)\r\n",
    "    w = XTX_inv.dot(X.T).dot(y)\r\n",
    "    \r\n",
    "    return w[0], w[1:]"
   ],
   "outputs": [],
   "metadata": {}
  },
  {
   "cell_type": "markdown",
   "source": [
    "## Baseline solution"
   ],
   "metadata": {}
  },
  {
   "cell_type": "code",
   "execution_count": 37,
   "source": [
    "base = ['engine_hp', 'engine_cylinders', 'highway_mpg', 'city_mpg', 'popularity']"
   ],
   "outputs": [],
   "metadata": {}
  },
  {
   "cell_type": "code",
   "execution_count": 38,
   "source": [
    "def prepare_X(df):\r\n",
    "    df_num = df[base]\r\n",
    "    df_num = df_num.fillna(0)\r\n",
    "    X = df_num.values\r\n",
    "    return X"
   ],
   "outputs": [],
   "metadata": {}
  },
  {
   "cell_type": "code",
   "execution_count": 39,
   "source": [
    "X_train = prepare_X(df_train)\r\n",
    "w_0, w = train_linear_regression(X_train, y_train)"
   ],
   "outputs": [],
   "metadata": {}
  },
  {
   "cell_type": "code",
   "execution_count": 40,
   "source": [
    "y_pred = w_0 + X_train.dot(w)"
   ],
   "outputs": [],
   "metadata": {}
  },
  {
   "cell_type": "code",
   "execution_count": 41,
   "source": [
    "plt.figure(figsize=(6, 4))\r\n",
    "\r\n",
    "sns.histplot(y_train, label='target', color='#222222', alpha=0.6, bins=40)\r\n",
    "sns.histplot(y_pred, label='prediction', color='#aaaaaa', alpha=0.8, bins=40)\r\n",
    "\r\n",
    "plt.legend()\r\n",
    "\r\n",
    "plt.ylabel('Frequency')\r\n",
    "plt.xlabel('Log(Price + 1)')\r\n",
    "plt.title('Predictions vs actual distribution')\r\n",
    "\r\n",
    "plt.show()"
   ],
   "outputs": [
    {
     "output_type": "display_data",
     "data": {
      "image/png": "[encoded data removed]",
      "text/plain": [
       "<Figure size 432x288 with 1 Axes>"
      ]
     },
     "metadata": {
      "needs_background": "light"
     }
    }
   ],
   "metadata": {}
  },
  {
   "cell_type": "code",
   "execution_count": 42,
   "source": [
    "def rmse(y, y_pred):\r\n",
    "    error = y_pred - y\r\n",
    "    mse = (error ** 2).mean()\r\n",
    "    return np.sqrt(mse)"
   ],
   "outputs": [],
   "metadata": {}
  },
  {
   "cell_type": "code",
   "execution_count": 43,
   "source": [
    "rmse(y_train, y_pred)"
   ],
   "outputs": [
    {
     "output_type": "execute_result",
     "data": {
      "text/plain": [
       "0.7554192603920133"
      ]
     },
     "metadata": {},
     "execution_count": 43
    }
   ],
   "metadata": {}
  },
  {
   "cell_type": "code",
   "execution_count": 73,
   "source": [
    "X_val = prepare_X(df_val)\r\n",
    "y_pred = w_0 + X_val.dot(w)"
   ],
   "outputs": [],
   "metadata": {}
  },
  {
   "cell_type": "code",
   "execution_count": 74,
   "source": [
    "rmse(y_val, y_pred)"
   ],
   "outputs": [
    {
     "output_type": "execute_result",
     "data": {
      "text/plain": [
       "0.7616530991301607"
      ]
     },
     "metadata": {},
     "execution_count": 74
    }
   ],
   "metadata": {
    "scrolled": true
   }
  },
  {
   "cell_type": "markdown",
   "source": [
    "## Simple feature engineering"
   ],
   "metadata": {}
  },
  {
   "cell_type": "code",
   "execution_count": 75,
   "source": [
    "def prepare_X(df):\r\n",
    "    df = df.copy()\r\n",
    "    features = base.copy()\r\n",
    "\r\n",
    "    df['age'] = 2017 - df.year\r\n",
    "    features.append('age')\r\n",
    "\r\n",
    "    df_num = df[features]\r\n",
    "    df_num = df_num.fillna(0)\r\n",
    "    X = df_num.values\r\n",
    "    return X"
   ],
   "outputs": [],
   "metadata": {}
  },
  {
   "cell_type": "code",
   "execution_count": 76,
   "source": [
    "X_train = prepare_X(df_train)\r\n",
    "w_0, w = train_linear_regression(X_train, y_train)\r\n",
    "\r\n",
    "y_pred = w_0 + X_train.dot(w)\r\n",
    "print('train', rmse(y_train, y_pred))\r\n",
    "\r\n",
    "X_val = prepare_X(df_val)\r\n",
    "y_pred = w_0 + X_val.dot(w)\r\n",
    "print('validation', rmse(y_val, y_pred))"
   ],
   "outputs": [
    {
     "output_type": "stream",
     "name": "stdout",
     "text": [
      "train 0.5175055465840046\n",
      "validation 0.5172055461058338\n"
     ]
    }
   ],
   "metadata": {}
  },
  {
   "cell_type": "code",
   "execution_count": 77,
   "source": [
    "plt.figure(figsize=(6, 4))\r\n",
    "\r\n",
    "\r\n",
    "sns.histplot(y_val, label='target', color='#222222', alpha=0.6, bins=40)\r\n",
    "sns.histplot(y_pred, label='prediction', color='#aaaaaa', alpha=0.8, bins=40)\r\n",
    "\r\n",
    "plt.legend()\r\n",
    "\r\n",
    "plt.ylabel('Frequency')\r\n",
    "plt.xlabel('Log(Price + 1)')\r\n",
    "plt.title('Predictions vs actual distribution')\r\n",
    "\r\n",
    "plt.show()"
   ],
   "outputs": [
    {
     "output_type": "display_data",
     "data": {
      "image/png": "[encoded data removed]",
      "text/plain": [
       "<Figure size 432x288 with 1 Axes>"
      ]
     },
     "metadata": {
      "needs_background": "light"
     }
    }
   ],
   "metadata": {}
  },
  {
   "cell_type": "code",
   "execution_count": 78,
   "source": [
    "df['make'].value_counts().head(5)"
   ],
   "outputs": [
    {
     "output_type": "execute_result",
     "data": {
      "text/plain": [
       "chevrolet     1123\n",
       "ford           881\n",
       "volkswagen     809\n",
       "toyota         746\n",
       "dodge          626\n",
       "Name: make, dtype: int64"
      ]
     },
     "metadata": {},
     "execution_count": 78
    }
   ],
   "metadata": {}
  },
  {
   "cell_type": "code",
   "execution_count": 79,
   "source": [
    "def prepare_X(df):\r\n",
    "    df = df.copy()\r\n",
    "    features = base.copy()\r\n",
    "\r\n",
    "    df['age'] = 2017 - df.year\r\n",
    "    features.append('age')\r\n",
    "\r\n",
    "    for v in [2, 3, 4]:\r\n",
    "        feature = 'num_doors_%s' % v\r\n",
    "        df[feature] = (df['number_of_doors'] == v).astype(int)\r\n",
    "        features.append(feature)\r\n",
    "\r\n",
    "    for v in ['chevrolet', 'ford', 'volkswagen', 'toyota', 'dodge']:\r\n",
    "        feature = 'is_make_%s' % v\r\n",
    "        df[feature] = (df['make'] == v).astype(int)\r\n",
    "        features.append(feature)\r\n",
    "\r\n",
    "    df_num = df[features]\r\n",
    "    df_num = df_num.fillna(0)\r\n",
    "    X = df_num.values\r\n",
    "    return X"
   ],
   "outputs": [],
   "metadata": {}
  },
  {
   "cell_type": "code",
   "execution_count": 80,
   "source": [
    "X_train = prepare_X(df_train)\r\n",
    "w_0, w = train_linear_regression(X_train, y_train)\r\n",
    "\r\n",
    "y_pred = w_0 + X_train.dot(w)\r\n",
    "print('train:', rmse(y_train, y_pred))\r\n",
    "\r\n",
    "X_val = prepare_X(df_val)\r\n",
    "y_pred = w_0 + X_val.dot(w)\r\n",
    "print('validation:', rmse(y_val, y_pred))"
   ],
   "outputs": [
    {
     "output_type": "stream",
     "name": "stdout",
     "text": [
      "train: 0.5058876515487503\n",
      "validation: 0.50760388495572\n"
     ]
    }
   ],
   "metadata": {}
  },
  {
   "cell_type": "code",
   "execution_count": 81,
   "source": [
    "df['engine_fuel_type'].value_counts()"
   ],
   "outputs": [
    {
     "output_type": "execute_result",
     "data": {
      "text/plain": [
       "regular_unleaded                                7172\n",
       "premium_unleaded_(required)                     2009\n",
       "premium_unleaded_(recommended)                  1523\n",
       "flex-fuel_(unleaded/e85)                         899\n",
       "diesel                                           154\n",
       "electric                                          66\n",
       "flex-fuel_(premium_unleaded_required/e85)         54\n",
       "flex-fuel_(premium_unleaded_recommended/e85)      26\n",
       "flex-fuel_(unleaded/natural_gas)                   6\n",
       "natural_gas                                        2\n",
       "Name: engine_fuel_type, dtype: int64"
      ]
     },
     "metadata": {},
     "execution_count": 81
    }
   ],
   "metadata": {}
  },
  {
   "cell_type": "code",
   "execution_count": 82,
   "source": [
    "def prepare_X(df):\r\n",
    "    df = df.copy()\r\n",
    "    features = base.copy()\r\n",
    "\r\n",
    "    df['age'] = 2017 - df.year\r\n",
    "    features.append('age')\r\n",
    "    \r\n",
    "    for v in [2, 3, 4]:\r\n",
    "        feature = 'num_doors_%s' % v\r\n",
    "        df[feature] = (df['number_of_doors'] == v).astype(int)\r\n",
    "        features.append(feature)\r\n",
    "\r\n",
    "    for v in ['chevrolet', 'ford', 'volkswagen', 'toyota', 'dodge']:\r\n",
    "        feature = 'is_make_%s' % v\r\n",
    "        df[feature] = (df['make'] == v).astype(int)\r\n",
    "        features.append(feature)\r\n",
    "\r\n",
    "    for v in ['regular_unleaded', 'premium_unleaded_(required)', \r\n",
    "              'premium_unleaded_(recommended)', 'flex-fuel_(unleaded/e85)']:\r\n",
    "        feature = 'is_type_%s' % v\r\n",
    "        df[feature] = (df['engine_fuel_type'] == v).astype(int)\r\n",
    "        features.append(feature)\r\n",
    "        \r\n",
    "    df_num = df[features]\r\n",
    "    df_num = df_num.fillna(0)\r\n",
    "    X = df_num.values\r\n",
    "    return X"
   ],
   "outputs": [],
   "metadata": {}
  },
  {
   "cell_type": "code",
   "execution_count": 83,
   "source": [
    "X_train = prepare_X(df_train)\r\n",
    "w_0, w = train_linear_regression(X_train, y_train)\r\n",
    "\r\n",
    "y_pred = w_0 + X_train.dot(w)\r\n",
    "print('train:', rmse(y_train, y_pred))\r\n",
    "\r\n",
    "X_val = prepare_X(df_val)\r\n",
    "y_pred = w_0 + X_val.dot(w)\r\n",
    "print('validation:', rmse(y_val, y_pred))"
   ],
   "outputs": [
    {
     "output_type": "stream",
     "name": "stdout",
     "text": [
      "train: 0.4788482615078598\n",
      "validation: 0.4748256737224159\n"
     ]
    }
   ],
   "metadata": {}
  },
  {
   "cell_type": "code",
   "execution_count": 84,
   "source": [
    "df['transmission_type'].value_counts()"
   ],
   "outputs": [
    {
     "output_type": "execute_result",
     "data": {
      "text/plain": [
       "automatic           8266\n",
       "manual              2935\n",
       "automated_manual     626\n",
       "direct_drive          68\n",
       "unknown               19\n",
       "Name: transmission_type, dtype: int64"
      ]
     },
     "metadata": {},
     "execution_count": 84
    }
   ],
   "metadata": {}
  },
  {
   "cell_type": "code",
   "execution_count": 85,
   "source": [
    "def prepare_X(df):\r\n",
    "    df = df.copy()\r\n",
    "    features = base.copy()\r\n",
    "\r\n",
    "    df['age'] = 2017 - df.year\r\n",
    "    features.append('age')\r\n",
    "    \r\n",
    "    for v in [2, 3, 4]:\r\n",
    "        feature = 'num_doors_%s' % v\r\n",
    "        df[feature] = (df['number_of_doors'] == v).astype(int)\r\n",
    "        features.append(feature)\r\n",
    "\r\n",
    "    for v in ['chevrolet', 'ford', 'volkswagen', 'toyota', 'dodge']:\r\n",
    "        feature = 'is_make_%s' % v\r\n",
    "        df[feature] = (df['make'] == v).astype(int)\r\n",
    "        features.append(feature)\r\n",
    "\r\n",
    "    for v in ['regular_unleaded', 'premium_unleaded_(required)', \r\n",
    "              'premium_unleaded_(recommended)', 'flex-fuel_(unleaded/e85)']:\r\n",
    "        feature = 'is_type_%s' % v\r\n",
    "        df[feature] = (df['engine_fuel_type'] == v).astype(int)\r\n",
    "        features.append(feature)\r\n",
    "\r\n",
    "    for v in ['automatic', 'manual', 'automated_manual']:\r\n",
    "        feature = 'is_transmission_%s' % v\r\n",
    "        df[feature] = (df['transmission_type'] == v).astype(int)\r\n",
    "        features.append(feature)\r\n",
    "        \r\n",
    "    df_num = df[features]\r\n",
    "    df_num = df_num.fillna(0)\r\n",
    "    X = df_num.values\r\n",
    "    return X"
   ],
   "outputs": [],
   "metadata": {}
  },
  {
   "cell_type": "code",
   "execution_count": 86,
   "source": [
    "X_train = prepare_X(df_train)\r\n",
    "w_0, w = train_linear_regression(X_train, y_train)\r\n",
    "\r\n",
    "y_pred = w_0 + X_train.dot(w)\r\n",
    "print('train:', rmse(y_train, y_pred))\r\n",
    "\r\n",
    "X_val = prepare_X(df_val)\r\n",
    "y_pred = w_0 + X_val.dot(w)\r\n",
    "print('validation:', rmse(y_val, y_pred))"
   ],
   "outputs": [
    {
     "output_type": "stream",
     "name": "stdout",
     "text": [
      "train: 0.4745380510924004\n",
      "validation: 0.468587919465911\n"
     ]
    }
   ],
   "metadata": {}
  },
  {
   "cell_type": "code",
   "execution_count": 87,
   "source": [
    "df['driven_wheels'].value_counts()"
   ],
   "outputs": [
    {
     "output_type": "execute_result",
     "data": {
      "text/plain": [
       "front_wheel_drive    4787\n",
       "rear_wheel_drive     3371\n",
       "all_wheel_drive      2353\n",
       "four_wheel_drive     1403\n",
       "Name: driven_wheels, dtype: int64"
      ]
     },
     "metadata": {},
     "execution_count": 87
    }
   ],
   "metadata": {}
  },
  {
   "cell_type": "code",
   "execution_count": 88,
   "source": [
    "df['market_category'].value_counts().head(5)"
   ],
   "outputs": [
    {
     "output_type": "execute_result",
     "data": {
      "text/plain": [
       "crossover             1110\n",
       "flex_fuel              872\n",
       "luxury                 855\n",
       "luxury,performance     673\n",
       "hatchback              641\n",
       "Name: market_category, dtype: int64"
      ]
     },
     "metadata": {},
     "execution_count": 88
    }
   ],
   "metadata": {}
  },
  {
   "cell_type": "code",
   "execution_count": 89,
   "source": [
    "df['vehicle_size'].value_counts().head(5)"
   ],
   "outputs": [
    {
     "output_type": "execute_result",
     "data": {
      "text/plain": [
       "compact    4764\n",
       "midsize    4373\n",
       "large      2777\n",
       "Name: vehicle_size, dtype: int64"
      ]
     },
     "metadata": {},
     "execution_count": 89
    }
   ],
   "metadata": {}
  },
  {
   "cell_type": "code",
   "execution_count": 90,
   "source": [
    "df['vehicle_style'].value_counts().head(5)"
   ],
   "outputs": [
    {
     "output_type": "execute_result",
     "data": {
      "text/plain": [
       "sedan            3048\n",
       "4dr_suv          2488\n",
       "coupe            1211\n",
       "convertible       793\n",
       "4dr_hatchback     702\n",
       "Name: vehicle_style, dtype: int64"
      ]
     },
     "metadata": {},
     "execution_count": 90
    }
   ],
   "metadata": {}
  },
  {
   "cell_type": "code",
   "execution_count": 91,
   "source": [
    "def prepare_X(df):\r\n",
    "    df = df.copy()\r\n",
    "    features = base.copy()\r\n",
    "\r\n",
    "    df['age'] = 2017 - df.year\r\n",
    "    features.append('age')\r\n",
    "    \r\n",
    "    for v in [2, 3, 4]:\r\n",
    "        feature = 'num_doors_%s' % v\r\n",
    "        df[feature] = (df['number_of_doors'] == v).astype(int)\r\n",
    "        features.append(feature)\r\n",
    "\r\n",
    "    for v in ['chevrolet', 'ford', 'volkswagen', 'toyota', 'dodge']:\r\n",
    "        feature = 'is_make_%s' % v\r\n",
    "        df[feature] = (df['make'] == v).astype(int)\r\n",
    "        features.append(feature)\r\n",
    "\r\n",
    "    for v in ['regular_unleaded', 'premium_unleaded_(required)', \r\n",
    "              'premium_unleaded_(recommended)', 'flex-fuel_(unleaded/e85)']:\r\n",
    "        feature = 'is_type_%s' % v\r\n",
    "        df[feature] = (df['engine_fuel_type'] == v).astype(int)\r\n",
    "        features.append(feature)\r\n",
    "\r\n",
    "    for v in ['automatic', 'manual', 'automated_manual']:\r\n",
    "        feature = 'is_transmission_%s' % v\r\n",
    "        df[feature] = (df['transmission_type'] == v).astype(int)\r\n",
    "        features.append(feature)\r\n",
    "\r\n",
    "    for v in ['front_wheel_drive', 'rear_wheel_drive', 'all_wheel_drive', 'four_wheel_drive']:\r\n",
    "        feature = 'is_driven_wheens_%s' % v\r\n",
    "        df[feature] = (df['driven_wheels'] == v).astype(int)\r\n",
    "        features.append(feature)\r\n",
    "\r\n",
    "    for v in ['crossover', 'flex_fuel', 'luxury', 'luxury,performance', 'hatchback']:\r\n",
    "        feature = 'is_mc_%s' % v\r\n",
    "        df[feature] = (df['market_category'] == v).astype(int)\r\n",
    "        features.append(feature)\r\n",
    "\r\n",
    "    for v in ['compact', 'midsize', 'large']:\r\n",
    "        feature = 'is_size_%s' % v\r\n",
    "        df[feature] = (df['vehicle_size'] == v).astype(int)\r\n",
    "        features.append(feature)\r\n",
    "\r\n",
    "    for v in ['sedan', '4dr_suv', 'coupe', 'convertible', '4dr_hatchback']:\r\n",
    "        feature = 'is_style_%s' % v\r\n",
    "        df[feature] = (df['vehicle_style'] == v).astype(int)\r\n",
    "        features.append(feature)\r\n",
    "\r\n",
    "    df_num = df[features]\r\n",
    "    df_num = df_num.fillna(0)\r\n",
    "    X = df_num.values\r\n",
    "    return X"
   ],
   "outputs": [],
   "metadata": {}
  },
  {
   "cell_type": "code",
   "execution_count": 92,
   "source": [
    "X_train = prepare_X(df_train)\r\n",
    "w_0, w = train_linear_regression(X_train, y_train)\r\n",
    "\r\n",
    "y_pred = w_0 + X_train.dot(w)\r\n",
    "print('train:', rmse(y_train, y_pred))\r\n",
    "\r\n",
    "X_val = prepare_X(df_val)\r\n",
    "y_pred = w_0 + X_val.dot(w)\r\n",
    "print('validation:', rmse(y_val, y_pred))"
   ],
   "outputs": [
    {
     "output_type": "stream",
     "name": "stdout",
     "text": [
      "train: 75.06709580876142\n",
      "validation: 36.955146915047585\n"
     ]
    }
   ],
   "metadata": {}
  },
  {
   "cell_type": "code",
   "execution_count": 93,
   "source": [
    "w_0"
   ],
   "outputs": [
    {
     "output_type": "execute_result",
     "data": {
      "text/plain": [
       "-5225093807643363.0"
      ]
     },
     "metadata": {},
     "execution_count": 93
    }
   ],
   "metadata": {}
  },
  {
   "cell_type": "markdown",
   "source": [
    "## Regularization"
   ],
   "metadata": {}
  },
  {
   "cell_type": "code",
   "execution_count": 94,
   "source": [
    "def train_linear_regression_reg(X, y, r=0.0):\r\n",
    "    ones = np.ones(X.shape[0])\r\n",
    "    X = np.column_stack([ones, X])\r\n",
    "\r\n",
    "    XTX = X.T.dot(X)\r\n",
    "    reg = r * np.eye(XTX.shape[0])\r\n",
    "    XTX = XTX + reg\r\n",
    "\r\n",
    "    XTX_inv = np.linalg.inv(XTX)\r\n",
    "    w = XTX_inv.dot(X.T).dot(y)\r\n",
    "    \r\n",
    "    return w[0], w[1:]"
   ],
   "outputs": [],
   "metadata": {}
  },
  {
   "cell_type": "code",
   "execution_count": 95,
   "source": [
    "X_train = prepare_X(df_train)"
   ],
   "outputs": [],
   "metadata": {}
  },
  {
   "cell_type": "code",
   "execution_count": 96,
   "source": [
    "for r in [0, 0.001, 0.01, 0.1, 1, 10]:\r\n",
    "    w_0, w = train_linear_regression_reg(X_train, y_train, r=r)\r\n",
    "    print('%5s, %.2f, %.2f, %.2f' % (r, w_0, w[13], w[21]))"
   ],
   "outputs": [
    {
     "output_type": "stream",
     "name": "stdout",
     "text": [
      "    0, -5225093807643363.00, 1.56, 5225093807640315.00\n",
      "0.001, 7.20, -0.10, 1.81\n",
      " 0.01, 7.18, -0.10, 1.81\n",
      "  0.1, 7.05, -0.10, 1.78\n",
      "    1, 6.22, -0.10, 1.56\n",
      "   10, 4.39, -0.09, 1.08\n"
     ]
    }
   ],
   "metadata": {}
  },
  {
   "cell_type": "code",
   "execution_count": 97,
   "source": [
    "X_train = prepare_X(df_train)\r\n",
    "w_0, w = train_linear_regression_reg(X_train, y_train, r=0)\r\n",
    "\r\n",
    "y_pred = w_0 + X_train.dot(w)\r\n",
    "print('train', rmse(y_train, y_pred))\r\n",
    "\r\n",
    "X_val = prepare_X(df_val)\r\n",
    "y_pred = w_0 + X_val.dot(w)\r\n",
    "print('val', rmse(y_val, y_pred))"
   ],
   "outputs": [
    {
     "output_type": "stream",
     "name": "stdout",
     "text": [
      "train 75.06709580876142\n",
      "val 36.955146915047585\n"
     ]
    }
   ],
   "metadata": {}
  },
  {
   "cell_type": "code",
   "execution_count": 98,
   "source": [
    "X_train = prepare_X(df_train)\r\n",
    "w_0, w = train_linear_regression_reg(X_train, y_train, r=0.01)\r\n",
    "\r\n",
    "y_pred = w_0 + X_train.dot(w)\r\n",
    "print('train', rmse(y_train, y_pred))\r\n",
    "\r\n",
    "X_val = prepare_X(df_val)\r\n",
    "y_pred = w_0 + X_val.dot(w)\r\n",
    "print('val', rmse(y_val, y_pred))"
   ],
   "outputs": [
    {
     "output_type": "stream",
     "name": "stdout",
     "text": [
      "train 0.4643124894529771\n",
      "val 0.4602394963030572\n"
     ]
    }
   ],
   "metadata": {}
  },
  {
   "cell_type": "code",
   "execution_count": 99,
   "source": [
    "X_train = prepare_X(df_train)\r\n",
    "X_val = prepare_X(df_val)\r\n",
    "\r\n",
    "for r in [0.000001, 0.0001, 0.001, 0.01, 0.1, 1, 5, 10]:\r\n",
    "    w_0, w = train_linear_regression_reg(X_train, y_train, r=r)\r\n",
    "    y_pred = w_0 + X_val.dot(w)\r\n",
    "    print('%6s' %r, rmse(y_val, y_pred))"
   ],
   "outputs": [
    {
     "output_type": "stream",
     "name": "stdout",
     "text": [
      " 1e-06 0.4602252801554976\n",
      "0.0001 0.460225499519722\n",
      " 0.001 0.46022676199886153\n",
      "  0.01 0.4602394963030572\n",
      "   0.1 0.46037006958127175\n",
      "     1 0.4618298042649524\n",
      "     5 0.46840796275332597\n",
      "    10 0.4757248100694313\n"
     ]
    }
   ],
   "metadata": {}
  },
  {
   "cell_type": "code",
   "execution_count": 100,
   "source": [
    "X_train = prepare_X(df_train)\r\n",
    "w_0, w = train_linear_regression_reg(X_train, y_train, r=0.01)\r\n",
    "\r\n",
    "X_val = prepare_X(df_val)\r\n",
    "y_pred = w_0 + X_val.dot(w)\r\n",
    "print('validation:', rmse(y_val, y_pred))\r\n",
    "\r\n",
    "X_test = prepare_X(df_test)\r\n",
    "y_pred = w_0 + X_test.dot(w)\r\n",
    "print('test:', rmse(y_test, y_pred))"
   ],
   "outputs": [
    {
     "output_type": "stream",
     "name": "stdout",
     "text": [
      "validation: 0.4602394963030572\n",
      "test: 0.45718136793896885\n"
     ]
    }
   ],
   "metadata": {}
  },
  {
   "cell_type": "markdown",
   "source": [
    "## Using the model"
   ],
   "metadata": {}
  },
  {
   "cell_type": "code",
   "execution_count": 101,
   "source": [
    "i = 2\r\n",
    "ad = df_test.iloc[i].to_dict()\r\n",
    "ad"
   ],
   "outputs": [
    {
     "output_type": "execute_result",
     "data": {
      "text/plain": [
       "{'make': 'toyota',\n",
       " 'model': 'venza',\n",
       " 'year': 2013,\n",
       " 'engine_fuel_type': 'regular_unleaded',\n",
       " 'engine_hp': 268.0,\n",
       " 'engine_cylinders': 6.0,\n",
       " 'transmission_type': 'automatic',\n",
       " 'driven_wheels': 'all_wheel_drive',\n",
       " 'number_of_doors': 4.0,\n",
       " 'market_category': 'crossover,performance',\n",
       " 'vehicle_size': 'midsize',\n",
       " 'vehicle_style': 'wagon',\n",
       " 'highway_mpg': 25,\n",
       " 'city_mpg': 18,\n",
       " 'popularity': 2031}"
      ]
     },
     "metadata": {},
     "execution_count": 101
    }
   ],
   "metadata": {}
  },
  {
   "cell_type": "code",
   "execution_count": 102,
   "source": [
    "X_test = prepare_X(pd.DataFrame([ad]))[0]\r\n",
    "y_pred = w_0 + X_test.dot(w)\r\n",
    "suggestion = np.expm1(y_pred)\r\n",
    "suggestion"
   ],
   "outputs": [
    {
     "output_type": "execute_result",
     "data": {
      "text/plain": [
       "28294.13588598235"
      ]
     },
     "metadata": {},
     "execution_count": 102
    }
   ],
   "metadata": {}
  },
  {
   "cell_type": "code",
   "execution_count": null,
   "source": [],
   "outputs": [],
   "metadata": {}
  },
  {
   "cell_type": "code",
   "execution_count": null,
   "source": [],
   "outputs": [],
   "metadata": {}
  }
 ],
 "metadata": {
  "anaconda-cloud": {},
  "kernelspec": {
   "name": "python3",
   "display_name": "Python 3.8.10 64-bit ('ml-zoomcamp': conda)"
  },
  "language_info": {
   "codemirror_mode": {
    "name": "ipython",
    "version": 3
   },
   "file_extension": ".py",
   "mimetype": "text/x-python",
   "name": "python",
   "nbconvert_exporter": "python",
   "pygments_lexer": "ipython3",
   "version": "3.8.10"
  },
  "interpreter": {
   "hash": "832570e78e7f479525d259d2815c5b65773a49263e9055eb025684c9017ad6c2"
  }
 },
 "nbformat": 4,
 "nbformat_minor": 2
}